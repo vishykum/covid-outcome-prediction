{
  "cells": [
    {
      "cell_type": "code",
      "execution_count": null,
      "metadata": {
        "id": "mrbh5oF3Liv2"
      },
      "outputs": [],
      "source": [
        "import pandas as pd\n",
        "import seaborn as sns\n",
        "import matplotlib.pyplot as plt\n",
        "import numpy as np\n",
        "import xgboost as xgb\n",
        "from sklearn.model_selection import train_test_split\n",
        "from sklearn.model_selection import GridSearchCV\n",
        "from sklearn.metrics import precision_recall_fscore_support\n",
        "from sklearn.metrics import f1_score\n",
        "from sklearn.metrics import accuracy_score\n",
        "from sklearn.ensemble import RandomForestClassifier\n",
        "\n",
        "train_data = pd.read_excel(\"data/cases_2021_train_processed_2.xlsx\")\n",
        "test_data = pd.read_excel(\"data/cases_2021_test_processed_unlabelled_2.xlsx\")"
      ]
    },
    {
      "cell_type": "markdown",
      "metadata": {
        "id": "qdAB29miLiv5"
      },
      "source": [
        "# 1.1 Feature Selection"
      ]
    },
    {
      "cell_type": "code",
      "execution_count": null,
      "metadata": {
        "id": "uN0xFTGyLiv7"
      },
      "outputs": [],
      "source": [
        "train = train_data.copy()\n",
        "train = train[['age', 'country', 'chronic_disease_binary', 'Case_Fatality_Ratio','outcome_group']]\n",
        "test = test_data.copy()\n",
        "test = test[['age', 'country', 'chronic_disease_binary', 'Case_Fatality_Ratio']]\n",
        "train_data, test_data = train,test "
      ]
    },
    {
      "cell_type": "markdown",
      "metadata": {
        "id": "pQii5m-iLiv8"
      },
      "source": [
        "# 1.2 Feature Mapping"
      ]
    },
    {
      "cell_type": "code",
      "execution_count": null,
      "metadata": {
        "id": "CddU-G79Liv9"
      },
      "outputs": [],
      "source": [
        "train = train_data.copy()\n",
        "train['country'] = pd.factorize(train['country'])[0]\n",
        "train['chronic_disease_binary'] = pd.factorize(train['chronic_disease_binary'])[0]\n",
        "new_label = {\"outcome_group\": {\"deceased\": 0, \"hospitalized\": 1, \"nonhospitalized\": 2}}\n",
        "train.replace(new_label, inplace = True)\n",
        "test = test_data.copy()\n",
        "test['country'] = pd.factorize(test['country'])[0]\n",
        "test['chronic_disease_binary'] = pd.factorize(test['chronic_disease_binary'])[0]\n",
        "train_data, test_data = train,test "
      ]
    },
    {
      "cell_type": "markdown",
      "metadata": {
        "id": "9dqzE2OVLiv9"
      },
      "source": [
        "# 1.3 Balancing Classes"
      ]
    },
    {
      "cell_type": "code",
      "execution_count": null,
      "metadata": {
        "colab": {
          "base_uri": "https://localhost:8080/",
          "height": 754
        },
        "id": "e92tJRBSLiv-",
        "outputId": "7752589c-6bdd-40ef-86b8-befdaafd857f"
      },
      "outputs": [
        {
          "output_type": "stream",
          "name": "stdout",
          "text": [
            "\n",
            "Before Balancing,\n",
            "outcome_group\n",
            "0      997\n",
            "1    13241\n",
            "2     2974\n",
            "dtype: int64\n"
          ]
        },
        {
          "output_type": "display_data",
          "data": {
            "text/plain": [
              "<Figure size 432x288 with 1 Axes>"
            ],
            "image/png": "[encoded data removed]"
          },
          "metadata": {}
        },
        {
          "output_type": "stream",
          "name": "stdout",
          "text": [
            "\n",
            "After Balancing,\n",
            "outcome_group\n",
            "0     9970\n",
            "1    10568\n",
            "2     9814\n",
            "dtype: int64\n"
          ]
        },
        {
          "output_type": "display_data",
          "data": {
            "text/plain": [
              "<Figure size 432x288 with 1 Axes>"
            ],
            "image/png": "[encoded data removed]"
          },
          "metadata": {}
        }
      ],
      "source": [
        "def show_train_dataset_pie_chart(train_dataset: pd.DataFrame, title: str):\n",
        "    plt.figure()\n",
        "    data = train_dataset.groupby(\"outcome_group\").size()\n",
        "    print(\"\\n\" + title + \",\")\n",
        "    print(data)\n",
        "    data = [int(data[0]), int(data[1]), int(data[2])]\n",
        "    labels = [\"deceased\", \"hospitalized\", \"nonhospitalized\"]\n",
        "    colours = sns.color_palette('pastel')[0:4]\n",
        "    plt.pie(x=data, labels=labels, colors=colours, autopct='%.0f%%')\n",
        "    plt.title(title)\n",
        "    plt.show()\n",
        "\n",
        "show_train_dataset_pie_chart(train_data, \"Before Balancing\")\n",
        "\n",
        "deceased = train_data[train_data[\"outcome_group\"] == 0]\n",
        "new_deceased = deceased.sample(frac=10, replace=True, random_state=1)\n",
        "new_deceased.reset_index(inplace=True, drop=True)\n",
        "\n",
        "hospitalized = train_data[train_data[\"outcome_group\"] == 1]\n",
        "hospitalized_sample = np.random.choice(hospitalized.index, 3000, replace=True)\n",
        "new_hospitalized = hospitalized.drop(hospitalized_sample)\n",
        "new_hospitalized.reset_index(inplace=True, drop=True)\n",
        "\n",
        "nonhospitalized = train_data[train_data[\"outcome_group\"] == 2]\n",
        "new_nonhospitalized = nonhospitalized.sample(frac=3.3, replace=True, random_state=1)\n",
        "new_nonhospitalized.reset_index(inplace=True, drop=True)\n",
        "\n",
        "new_train = pd.concat([new_deceased, new_hospitalized, new_nonhospitalized])\n",
        "new_train.sort_index(axis = 0, inplace=True)\n",
        "new_train.reset_index(inplace=True, drop=True)\n",
        "\n",
        "show_train_dataset_pie_chart(new_train, \"After Balancing\")\n",
        "\n",
        "train_data = new_train"
      ]
    },
    {
      "cell_type": "markdown",
      "metadata": {
        "id": "PMSX2vOoLiwA"
      },
      "source": [
        "# 1.4 Building Models"
      ]
    },
    {
      "cell_type": "markdown",
      "metadata": {
        "id": "-ptz-QfbLiwB"
      },
      "source": [
        "### Train/Validation Split,"
      ]
    },
    {
      "cell_type": "code",
      "execution_count": null,
      "metadata": {
        "id": "isYDy_UBLiwB"
      },
      "outputs": [],
      "source": [
        "train_data, validation_data = train_test_split(train_data, test_size=0.2)"
      ]
    },
    {
      "cell_type": "markdown",
      "metadata": {
        "id": "HoToXmJyLiwB"
      },
      "source": [
        "### XG Boost,"
      ]
    },
    {
      "cell_type": "code",
      "execution_count": null,
      "metadata": {
        "id": "8ROXZA6FLiwC",
        "outputId": "e53401d3-0a89-4f9e-f83f-a15bf27547d3"
      },
      "outputs": [
        {
          "name": "stdout",
          "output_type": "stream",
          "text": [
            "Fitting 5 folds for each of 12 candidates, totalling 60 fits\n",
            "[CV 1/5; 1/12] START learning_rate=0.2, max_depth=6, n_estimators=150, num_class=3, objective=multi:softmax\n",
            "[CV 1/5; 1/12] END learning_rate=0.2, max_depth=6, n_estimators=150, num_class=3, objective=multi:softmax;, score=0.822 total time=   2.6s\n",
            "[CV 2/5; 1/12] START learning_rate=0.2, max_depth=6, n_estimators=150, num_class=3, objective=multi:softmax\n",
            "[CV 2/5; 1/12] END learning_rate=0.2, max_depth=6, n_estimators=150, num_class=3, objective=multi:softmax;, score=0.811 total time=   2.5s\n",
            "[CV 3/5; 1/12] START learning_rate=0.2, max_depth=6, n_estimators=150, num_class=3, objective=multi:softmax\n",
            "[CV 3/5; 1/12] END learning_rate=0.2, max_depth=6, n_estimators=150, num_class=3, objective=multi:softmax;, score=0.815 total time=   2.5s\n",
            "[CV 4/5; 1/12] START learning_rate=0.2, max_depth=6, n_estimators=150, num_class=3, objective=multi:softmax\n",
            "[CV 4/5; 1/12] END learning_rate=0.2, max_depth=6, n_estimators=150, num_class=3, objective=multi:softmax;, score=0.812 total time=   2.5s\n",
            "[CV 5/5; 1/12] START learning_rate=0.2, max_depth=6, n_estimators=150, num_class=3, objective=multi:softmax\n",
            "[CV 5/5; 1/12] END learning_rate=0.2, max_depth=6, n_estimators=150, num_class=3, objective=multi:softmax;, score=0.812 total time=   2.4s\n",
            "[CV 1/5; 2/12] START learning_rate=0.2, max_depth=6, n_estimators=250, num_class=3, objective=multi:softmax\n",
            "[CV 1/5; 2/12] END learning_rate=0.2, max_depth=6, n_estimators=250, num_class=3, objective=multi:softmax;, score=0.822 total time=   4.0s\n",
            "[CV 2/5; 2/12] START learning_rate=0.2, max_depth=6, n_estimators=250, num_class=3, objective=multi:softmax\n",
            "[CV 2/5; 2/12] END learning_rate=0.2, max_depth=6, n_estimators=250, num_class=3, objective=multi:softmax;, score=0.813 total time=   3.8s\n",
            "[CV 3/5; 2/12] START learning_rate=0.2, max_depth=6, n_estimators=250, num_class=3, objective=multi:softmax\n",
            "[CV 3/5; 2/12] END learning_rate=0.2, max_depth=6, n_estimators=250, num_class=3, objective=multi:softmax;, score=0.818 total time=   4.0s\n",
            "[CV 4/5; 2/12] START learning_rate=0.2, max_depth=6, n_estimators=250, num_class=3, objective=multi:softmax\n",
            "[CV 4/5; 2/12] END learning_rate=0.2, max_depth=6, n_estimators=250, num_class=3, objective=multi:softmax;, score=0.814 total time=   3.9s\n",
            "[CV 5/5; 2/12] START learning_rate=0.2, max_depth=6, n_estimators=250, num_class=3, objective=multi:softmax\n",
            "[CV 5/5; 2/12] END learning_rate=0.2, max_depth=6, n_estimators=250, num_class=3, objective=multi:softmax;, score=0.813 total time=   3.8s\n",
            "[CV 1/5; 3/12] START learning_rate=0.2, max_depth=8, n_estimators=150, num_class=3, objective=multi:softmax\n",
            "[CV 1/5; 3/12] END learning_rate=0.2, max_depth=8, n_estimators=150, num_class=3, objective=multi:softmax;, score=0.822 total time=   3.0s\n",
            "[CV 2/5; 3/12] START learning_rate=0.2, max_depth=8, n_estimators=150, num_class=3, objective=multi:softmax\n",
            "[CV 2/5; 3/12] END learning_rate=0.2, max_depth=8, n_estimators=150, num_class=3, objective=multi:softmax;, score=0.813 total time=   3.1s\n",
            "[CV 3/5; 3/12] START learning_rate=0.2, max_depth=8, n_estimators=150, num_class=3, objective=multi:softmax\n",
            "[CV 3/5; 3/12] END learning_rate=0.2, max_depth=8, n_estimators=150, num_class=3, objective=multi:softmax;, score=0.817 total time=   3.0s\n",
            "[CV 4/5; 3/12] START learning_rate=0.2, max_depth=8, n_estimators=150, num_class=3, objective=multi:softmax\n",
            "[CV 4/5; 3/12] END learning_rate=0.2, max_depth=8, n_estimators=150, num_class=3, objective=multi:softmax;, score=0.811 total time=   3.1s\n",
            "[CV 5/5; 3/12] START learning_rate=0.2, max_depth=8, n_estimators=150, num_class=3, objective=multi:softmax\n",
            "[CV 5/5; 3/12] END learning_rate=0.2, max_depth=8, n_estimators=150, num_class=3, objective=multi:softmax;, score=0.814 total time=   3.0s\n",
            "[CV 1/5; 4/12] START learning_rate=0.2, max_depth=8, n_estimators=250, num_class=3, objective=multi:softmax\n",
            "[CV 1/5; 4/12] END learning_rate=0.2, max_depth=8, n_estimators=250, num_class=3, objective=multi:softmax;, score=0.820 total time=   5.0s\n",
            "[CV 2/5; 4/12] START learning_rate=0.2, max_depth=8, n_estimators=250, num_class=3, objective=multi:softmax\n",
            "[CV 2/5; 4/12] END learning_rate=0.2, max_depth=8, n_estimators=250, num_class=3, objective=multi:softmax;, score=0.814 total time=   5.0s\n",
            "[CV 3/5; 4/12] START learning_rate=0.2, max_depth=8, n_estimators=250, num_class=3, objective=multi:softmax\n",
            "[CV 3/5; 4/12] END learning_rate=0.2, max_depth=8, n_estimators=250, num_class=3, objective=multi:softmax;, score=0.818 total time=   5.1s\n",
            "[CV 4/5; 4/12] START learning_rate=0.2, max_depth=8, n_estimators=250, num_class=3, objective=multi:softmax\n",
            "[CV 4/5; 4/12] END learning_rate=0.2, max_depth=8, n_estimators=250, num_class=3, objective=multi:softmax;, score=0.812 total time=   5.0s\n",
            "[CV 5/5; 4/12] START learning_rate=0.2, max_depth=8, n_estimators=250, num_class=3, objective=multi:softmax\n",
            "[CV 5/5; 4/12] END learning_rate=0.2, max_depth=8, n_estimators=250, num_class=3, objective=multi:softmax;, score=0.815 total time=   5.0s\n",
            "[CV 1/5; 5/12] START learning_rate=0.2, max_depth=10, n_estimators=150, num_class=3, objective=multi:softmax\n",
            "[CV 1/5; 5/12] END learning_rate=0.2, max_depth=10, n_estimators=150, num_class=3, objective=multi:softmax;, score=0.820 total time=   3.7s\n",
            "[CV 2/5; 5/12] START learning_rate=0.2, max_depth=10, n_estimators=150, num_class=3, objective=multi:softmax\n",
            "[CV 2/5; 5/12] END learning_rate=0.2, max_depth=10, n_estimators=150, num_class=3, objective=multi:softmax;, score=0.813 total time=   3.7s\n",
            "[CV 3/5; 5/12] START learning_rate=0.2, max_depth=10, n_estimators=150, num_class=3, objective=multi:softmax\n",
            "[CV 3/5; 5/12] END learning_rate=0.2, max_depth=10, n_estimators=150, num_class=3, objective=multi:softmax;, score=0.817 total time=   3.8s\n",
            "[CV 4/5; 5/12] START learning_rate=0.2, max_depth=10, n_estimators=150, num_class=3, objective=multi:softmax\n",
            "[CV 4/5; 5/12] END learning_rate=0.2, max_depth=10, n_estimators=150, num_class=3, objective=multi:softmax;, score=0.812 total time=   3.6s\n",
            "[CV 5/5; 5/12] START learning_rate=0.2, max_depth=10, n_estimators=150, num_class=3, objective=multi:softmax\n",
            "[CV 5/5; 5/12] END learning_rate=0.2, max_depth=10, n_estimators=150, num_class=3, objective=multi:softmax;, score=0.816 total time=   3.7s\n",
            "[CV 1/5; 6/12] START learning_rate=0.2, max_depth=10, n_estimators=250, num_class=3, objective=multi:softmax\n",
            "[CV 1/5; 6/12] END learning_rate=0.2, max_depth=10, n_estimators=250, num_class=3, objective=multi:softmax;, score=0.820 total time=   6.1s\n",
            "[CV 2/5; 6/12] START learning_rate=0.2, max_depth=10, n_estimators=250, num_class=3, objective=multi:softmax\n",
            "[CV 2/5; 6/12] END learning_rate=0.2, max_depth=10, n_estimators=250, num_class=3, objective=multi:softmax;, score=0.813 total time=   6.0s\n",
            "[CV 3/5; 6/12] START learning_rate=0.2, max_depth=10, n_estimators=250, num_class=3, objective=multi:softmax\n",
            "[CV 3/5; 6/12] END learning_rate=0.2, max_depth=10, n_estimators=250, num_class=3, objective=multi:softmax;, score=0.817 total time=   6.1s\n",
            "[CV 4/5; 6/12] START learning_rate=0.2, max_depth=10, n_estimators=250, num_class=3, objective=multi:softmax\n",
            "[CV 4/5; 6/12] END learning_rate=0.2, max_depth=10, n_estimators=250, num_class=3, objective=multi:softmax;, score=0.812 total time=   5.9s\n",
            "[CV 5/5; 6/12] START learning_rate=0.2, max_depth=10, n_estimators=250, num_class=3, objective=multi:softmax\n",
            "[CV 5/5; 6/12] END learning_rate=0.2, max_depth=10, n_estimators=250, num_class=3, objective=multi:softmax;, score=0.818 total time=   6.1s\n",
            "[CV 1/5; 7/12] START learning_rate=0.3, max_depth=6, n_estimators=150, num_class=3, objective=multi:softmax\n",
            "[CV 1/5; 7/12] END learning_rate=0.3, max_depth=6, n_estimators=150, num_class=3, objective=multi:softmax;, score=0.820 total time=   2.3s\n",
            "[CV 2/5; 7/12] START learning_rate=0.3, max_depth=6, n_estimators=150, num_class=3, objective=multi:softmax\n",
            "[CV 2/5; 7/12] END learning_rate=0.3, max_depth=6, n_estimators=150, num_class=3, objective=multi:softmax;, score=0.813 total time=   2.3s\n",
            "[CV 3/5; 7/12] START learning_rate=0.3, max_depth=6, n_estimators=150, num_class=3, objective=multi:softmax\n",
            "[CV 3/5; 7/12] END learning_rate=0.3, max_depth=6, n_estimators=150, num_class=3, objective=multi:softmax;, score=0.817 total time=   2.3s\n",
            "[CV 4/5; 7/12] START learning_rate=0.3, max_depth=6, n_estimators=150, num_class=3, objective=multi:softmax\n",
            "[CV 4/5; 7/12] END learning_rate=0.3, max_depth=6, n_estimators=150, num_class=3, objective=multi:softmax;, score=0.812 total time=   2.2s\n",
            "[CV 5/5; 7/12] START learning_rate=0.3, max_depth=6, n_estimators=150, num_class=3, objective=multi:softmax\n",
            "[CV 5/5; 7/12] END learning_rate=0.3, max_depth=6, n_estimators=150, num_class=3, objective=multi:softmax;, score=0.813 total time=   2.3s\n",
            "[CV 1/5; 8/12] START learning_rate=0.3, max_depth=6, n_estimators=250, num_class=3, objective=multi:softmax\n",
            "[CV 1/5; 8/12] END learning_rate=0.3, max_depth=6, n_estimators=250, num_class=3, objective=multi:softmax;, score=0.820 total time=   3.8s\n",
            "[CV 2/5; 8/12] START learning_rate=0.3, max_depth=6, n_estimators=250, num_class=3, objective=multi:softmax\n",
            "[CV 2/5; 8/12] END learning_rate=0.3, max_depth=6, n_estimators=250, num_class=3, objective=multi:softmax;, score=0.814 total time=   3.8s\n",
            "[CV 3/5; 8/12] START learning_rate=0.3, max_depth=6, n_estimators=250, num_class=3, objective=multi:softmax\n",
            "[CV 3/5; 8/12] END learning_rate=0.3, max_depth=6, n_estimators=250, num_class=3, objective=multi:softmax;, score=0.817 total time=   3.7s\n",
            "[CV 4/5; 8/12] START learning_rate=0.3, max_depth=6, n_estimators=250, num_class=3, objective=multi:softmax\n",
            "[CV 4/5; 8/12] END learning_rate=0.3, max_depth=6, n_estimators=250, num_class=3, objective=multi:softmax;, score=0.813 total time=   3.8s\n",
            "[CV 5/5; 8/12] START learning_rate=0.3, max_depth=6, n_estimators=250, num_class=3, objective=multi:softmax\n",
            "[CV 5/5; 8/12] END learning_rate=0.3, max_depth=6, n_estimators=250, num_class=3, objective=multi:softmax;, score=0.815 total time=   3.7s\n",
            "[CV 1/5; 9/12] START learning_rate=0.3, max_depth=8, n_estimators=150, num_class=3, objective=multi:softmax\n",
            "[CV 1/5; 9/12] END learning_rate=0.3, max_depth=8, n_estimators=150, num_class=3, objective=multi:softmax;, score=0.820 total time=   2.9s\n",
            "[CV 2/5; 9/12] START learning_rate=0.3, max_depth=8, n_estimators=150, num_class=3, objective=multi:softmax\n",
            "[CV 2/5; 9/12] END learning_rate=0.3, max_depth=8, n_estimators=150, num_class=3, objective=multi:softmax;, score=0.814 total time=   2.9s\n",
            "[CV 3/5; 9/12] START learning_rate=0.3, max_depth=8, n_estimators=150, num_class=3, objective=multi:softmax\n",
            "[CV 3/5; 9/12] END learning_rate=0.3, max_depth=8, n_estimators=150, num_class=3, objective=multi:softmax;, score=0.817 total time=   2.9s\n",
            "[CV 4/5; 9/12] START learning_rate=0.3, max_depth=8, n_estimators=150, num_class=3, objective=multi:softmax\n",
            "[CV 4/5; 9/12] END learning_rate=0.3, max_depth=8, n_estimators=150, num_class=3, objective=multi:softmax;, score=0.813 total time=   2.9s\n",
            "[CV 5/5; 9/12] START learning_rate=0.3, max_depth=8, n_estimators=150, num_class=3, objective=multi:softmax\n",
            "[CV 5/5; 9/12] END learning_rate=0.3, max_depth=8, n_estimators=150, num_class=3, objective=multi:softmax;, score=0.815 total time=   3.0s\n",
            "[CV 1/5; 10/12] START learning_rate=0.3, max_depth=8, n_estimators=250, num_class=3, objective=multi:softmax\n",
            "[CV 1/5; 10/12] END learning_rate=0.3, max_depth=8, n_estimators=250, num_class=3, objective=multi:softmax;, score=0.820 total time=   4.9s\n",
            "[CV 2/5; 10/12] START learning_rate=0.3, max_depth=8, n_estimators=250, num_class=3, objective=multi:softmax\n",
            "[CV 2/5; 10/12] END learning_rate=0.3, max_depth=8, n_estimators=250, num_class=3, objective=multi:softmax;, score=0.813 total time=   4.8s\n",
            "[CV 3/5; 10/12] START learning_rate=0.3, max_depth=8, n_estimators=250, num_class=3, objective=multi:softmax\n",
            "[CV 3/5; 10/12] END learning_rate=0.3, max_depth=8, n_estimators=250, num_class=3, objective=multi:softmax;, score=0.818 total time=   4.8s\n",
            "[CV 4/5; 10/12] START learning_rate=0.3, max_depth=8, n_estimators=250, num_class=3, objective=multi:softmax\n",
            "[CV 4/5; 10/12] END learning_rate=0.3, max_depth=8, n_estimators=250, num_class=3, objective=multi:softmax;, score=0.813 total time=   4.8s\n",
            "[CV 5/5; 10/12] START learning_rate=0.3, max_depth=8, n_estimators=250, num_class=3, objective=multi:softmax\n",
            "[CV 5/5; 10/12] END learning_rate=0.3, max_depth=8, n_estimators=250, num_class=3, objective=multi:softmax;, score=0.815 total time=   4.7s\n",
            "[CV 1/5; 11/12] START learning_rate=0.3, max_depth=10, n_estimators=150, num_class=3, objective=multi:softmax\n",
            "[CV 1/5; 11/12] END learning_rate=0.3, max_depth=10, n_estimators=150, num_class=3, objective=multi:softmax;, score=0.820 total time=   3.5s\n",
            "[CV 2/5; 11/12] START learning_rate=0.3, max_depth=10, n_estimators=150, num_class=3, objective=multi:softmax\n",
            "[CV 2/5; 11/12] END learning_rate=0.3, max_depth=10, n_estimators=150, num_class=3, objective=multi:softmax;, score=0.813 total time=   3.8s\n",
            "[CV 3/5; 11/12] START learning_rate=0.3, max_depth=10, n_estimators=150, num_class=3, objective=multi:softmax\n",
            "[CV 3/5; 11/12] END learning_rate=0.3, max_depth=10, n_estimators=150, num_class=3, objective=multi:softmax;, score=0.817 total time=   4.1s\n",
            "[CV 4/5; 11/12] START learning_rate=0.3, max_depth=10, n_estimators=150, num_class=3, objective=multi:softmax\n",
            "[CV 4/5; 11/12] END learning_rate=0.3, max_depth=10, n_estimators=150, num_class=3, objective=multi:softmax;, score=0.813 total time=   3.6s\n",
            "[CV 5/5; 11/12] START learning_rate=0.3, max_depth=10, n_estimators=150, num_class=3, objective=multi:softmax\n",
            "[CV 5/5; 11/12] END learning_rate=0.3, max_depth=10, n_estimators=150, num_class=3, objective=multi:softmax;, score=0.816 total time=   3.6s\n",
            "[CV 1/5; 12/12] START learning_rate=0.3, max_depth=10, n_estimators=250, num_class=3, objective=multi:softmax\n",
            "[CV 1/5; 12/12] END learning_rate=0.3, max_depth=10, n_estimators=250, num_class=3, objective=multi:softmax;, score=0.820 total time=   5.9s\n",
            "[CV 2/5; 12/12] START learning_rate=0.3, max_depth=10, n_estimators=250, num_class=3, objective=multi:softmax\n",
            "[CV 2/5; 12/12] END learning_rate=0.3, max_depth=10, n_estimators=250, num_class=3, objective=multi:softmax;, score=0.813 total time=   5.9s\n",
            "[CV 3/5; 12/12] START learning_rate=0.3, max_depth=10, n_estimators=250, num_class=3, objective=multi:softmax\n",
            "[CV 3/5; 12/12] END learning_rate=0.3, max_depth=10, n_estimators=250, num_class=3, objective=multi:softmax;, score=0.817 total time=   6.0s\n",
            "[CV 4/5; 12/12] START learning_rate=0.3, max_depth=10, n_estimators=250, num_class=3, objective=multi:softmax\n",
            "[CV 4/5; 12/12] END learning_rate=0.3, max_depth=10, n_estimators=250, num_class=3, objective=multi:softmax;, score=0.813 total time=   5.9s\n",
            "[CV 5/5; 12/12] START learning_rate=0.3, max_depth=10, n_estimators=250, num_class=3, objective=multi:softmax\n",
            "[CV 5/5; 12/12] END learning_rate=0.3, max_depth=10, n_estimators=250, num_class=3, objective=multi:softmax;, score=0.816 total time=   5.9s\n",
            "XG Boost GridSearchCV best score = 0.8159642300958497\n",
            "XG Boost GridSearchCV best parameters = {'learning_rate': 0.2, 'max_depth': 10, 'n_estimators': 250, 'num_class': 3, 'objective': 'multi:softmax'}\n",
            "XG Boost GridSearchCV deceased class f1-score = 0.7382219338092149\n"
          ]
        }
      ],
      "source": [
        "# Takes about 4 minutes to run.\n",
        "\n",
        "# Decide number of k-fold splits\n",
        "k = 5\n",
        "# Create model with blank parameters\n",
        "xgb_model = xgb.XGBClassifier(random_state = 1)\n",
        "# Create space of possible parameters\n",
        "parameter_search_space = {\n",
        "    \"learning_rate\": [0.2, 0.3],\n",
        "    \"max_depth\": [6, 8, 10],\n",
        "    \"n_estimators\": [150, 250],\n",
        "    \"objective\": [\"multi:softmax\"],\n",
        "    \"num_class\": [3]\n",
        "}\n",
        "# Create grid search cross validation object\n",
        "grid_search_cv = GridSearchCV(\n",
        "    estimator=xgb_model,\n",
        "    param_grid=parameter_search_space,\n",
        "    scoring=\"f1_macro\",\n",
        "    cv=k,\n",
        "    verbose=10\n",
        ")\n",
        "# Put data and labels in proper format\n",
        "data = train_data.iloc[:, :4].values\n",
        "labels = train_data.iloc[:, 4].values.reshape(-1, 1)\n",
        "# Fit grid search object\n",
        "grid_search_cv.fit(data, labels)\n",
        "# Print and save results.\n",
        "print(\"XG Boost GridSearchCV best score = \" + str(grid_search_cv.best_score_))\n",
        "print(\"XG Boost GridSearchCV best parameters = \" + str(grid_search_cv.best_params_))\n",
        "predictions = grid_search_cv.predict(data)\n",
        "_, _, fscore, _ = precision_recall_fscore_support(predictions, labels)\n",
        "print(\"XG Boost GridSearchCV deceased class f1-score = \" + str(fscore[0]))\n",
        "accuracy = accuracy_score(predictions, labels)\n",
        "print(\"XG Boost GridSearchCV accuracy score = \" + str(accuracy))\n",
        "pd.DataFrame(grid_search_cv.cv_results_).to_csv(\"xgboost_results.csv\")\n",
        "xgb_model = grid_search_cv.best_estimator_"
      ]
    },
    {
      "cell_type": "markdown",
      "source": [
        "### Random Forest"
      ],
      "metadata": {
        "id": "e_ojNhjoMd-D"
      }
    },
    {
      "cell_type": "code",
      "source": [
        "# Takes about 3-4 minutes to run.\n",
        "\n",
        "# Decide number of k-fold splits\n",
        "k = 5\n",
        "# Create model with blank parameters\n",
        "rf_model = RandomForestClassifier(random_state = 44)\n",
        "# Create space of possible parameters\n",
        "parameter_search_space = {\n",
        "    'n_estimators': [50, 100, 150, 200],\n",
        "    'criterion': [\"gini\", \"entropy\"],\n",
        "    'max_features': [1, 2, 3, 4]\n",
        "  }\n",
        "# Create grid search cross validation object\n",
        "grid_search_cv = GridSearchCV(\n",
        "    estimator=rf_model,\n",
        "    param_grid=parameter_search_space,\n",
        "    scoring=\"f1_macro\",\n",
        "    cv=k,\n",
        "    verbose=10\n",
        ")\n",
        "# Put data and labels in proper format\n",
        "data = train_data.iloc[:, :4].values\n",
        "labels = train_data.iloc[:, 4].values.ravel()\n",
        "# Fit grid search object\n",
        "grid_search_cv.fit(data, labels)\n",
        "# Print and save results.\n",
        "print(\"Random Forest GridSearchCV best score = \" + str(grid_search_cv.best_score_))\n",
        "print(\"Random Forest GridSearchCV best parameters = \" + str(grid_search_cv.best_params_))\n",
        "predictions = grid_search_cv.predict(data)\n",
        "_, _, fscore, _ = precision_recall_fscore_support(predictions, labels)\n",
        "print(\"Random Forest GridSearchCV deceased class f1-score = \" + str(fscore[0]))\n",
        "accuracy = accuracy_score(predictions, labels)\n",
        "print(\"Random Forest GridSearchCV accuracy score = \" + str(accuracy))\n",
        "pd.DataFrame(grid_search_cv.cv_results_).to_csv(\"rf_results.csv\")\n",
        "rf_model = grid_search_cv.best_estimator_"
      ],
      "metadata": {
        "colab": {
          "base_uri": "https://localhost:8080/"
        },
        "id": "SFIuUbWnMopU",
        "outputId": "e645e778-f572-40a4-a83c-eba6e45a3a17"
      },
      "execution_count": null,
      "outputs": [
        {
          "output_type": "stream",
          "name": "stdout",
          "text": [
            "Fitting 5 folds for each of 32 candidates, totalling 160 fits\n",
            "[CV 1/5; 1/32] START criterion=gini, max_features=1, n_estimators=50............\n",
            "[CV 1/5; 1/32] END criterion=gini, max_features=1, n_estimators=50;, score=0.821 total time=   0.5s\n",
            "[CV 2/5; 1/32] START criterion=gini, max_features=1, n_estimators=50............\n",
            "[CV 2/5; 1/32] END criterion=gini, max_features=1, n_estimators=50;, score=0.817 total time=   0.5s\n",
            "[CV 3/5; 1/32] START criterion=gini, max_features=1, n_estimators=50............\n",
            "[CV 3/5; 1/32] END criterion=gini, max_features=1, n_estimators=50;, score=0.818 total time=   0.5s\n",
            "[CV 4/5; 1/32] START criterion=gini, max_features=1, n_estimators=50............\n",
            "[CV 4/5; 1/32] END criterion=gini, max_features=1, n_estimators=50;, score=0.810 total time=   0.5s\n",
            "[CV 5/5; 1/32] START criterion=gini, max_features=1, n_estimators=50............\n",
            "[CV 5/5; 1/32] END criterion=gini, max_features=1, n_estimators=50;, score=0.811 total time=   0.5s\n",
            "[CV 1/5; 2/32] START criterion=gini, max_features=1, n_estimators=100...........\n",
            "[CV 1/5; 2/32] END criterion=gini, max_features=1, n_estimators=100;, score=0.821 total time=   0.9s\n",
            "[CV 2/5; 2/32] START criterion=gini, max_features=1, n_estimators=100...........\n",
            "[CV 2/5; 2/32] END criterion=gini, max_features=1, n_estimators=100;, score=0.815 total time=   0.9s\n",
            "[CV 3/5; 2/32] START criterion=gini, max_features=1, n_estimators=100...........\n",
            "[CV 3/5; 2/32] END criterion=gini, max_features=1, n_estimators=100;, score=0.818 total time=   1.1s\n",
            "[CV 4/5; 2/32] START criterion=gini, max_features=1, n_estimators=100...........\n",
            "[CV 4/5; 2/32] END criterion=gini, max_features=1, n_estimators=100;, score=0.810 total time=   1.2s\n",
            "[CV 5/5; 2/32] START criterion=gini, max_features=1, n_estimators=100...........\n",
            "[CV 5/5; 2/32] END criterion=gini, max_features=1, n_estimators=100;, score=0.811 total time=   1.5s\n",
            "[CV 1/5; 3/32] START criterion=gini, max_features=1, n_estimators=150...........\n",
            "[CV 1/5; 3/32] END criterion=gini, max_features=1, n_estimators=150;, score=0.821 total time=   3.0s\n",
            "[CV 2/5; 3/32] START criterion=gini, max_features=1, n_estimators=150...........\n",
            "[CV 2/5; 3/32] END criterion=gini, max_features=1, n_estimators=150;, score=0.815 total time=   1.4s\n",
            "[CV 3/5; 3/32] START criterion=gini, max_features=1, n_estimators=150...........\n",
            "[CV 3/5; 3/32] END criterion=gini, max_features=1, n_estimators=150;, score=0.819 total time=   1.4s\n",
            "[CV 4/5; 3/32] START criterion=gini, max_features=1, n_estimators=150...........\n",
            "[CV 4/5; 3/32] END criterion=gini, max_features=1, n_estimators=150;, score=0.811 total time=   1.4s\n",
            "[CV 5/5; 3/32] START criterion=gini, max_features=1, n_estimators=150...........\n",
            "[CV 5/5; 3/32] END criterion=gini, max_features=1, n_estimators=150;, score=0.811 total time=   2.1s\n",
            "[CV 1/5; 4/32] START criterion=gini, max_features=1, n_estimators=200...........\n",
            "[CV 1/5; 4/32] END criterion=gini, max_features=1, n_estimators=200;, score=0.821 total time=   1.8s\n",
            "[CV 2/5; 4/32] START criterion=gini, max_features=1, n_estimators=200...........\n",
            "[CV 2/5; 4/32] END criterion=gini, max_features=1, n_estimators=200;, score=0.815 total time=   1.8s\n",
            "[CV 3/5; 4/32] START criterion=gini, max_features=1, n_estimators=200...........\n",
            "[CV 3/5; 4/32] END criterion=gini, max_features=1, n_estimators=200;, score=0.819 total time=   1.8s\n",
            "[CV 4/5; 4/32] START criterion=gini, max_features=1, n_estimators=200...........\n",
            "[CV 4/5; 4/32] END criterion=gini, max_features=1, n_estimators=200;, score=0.810 total time=   1.8s\n",
            "[CV 5/5; 4/32] START criterion=gini, max_features=1, n_estimators=200...........\n",
            "[CV 5/5; 4/32] END criterion=gini, max_features=1, n_estimators=200;, score=0.811 total time=   1.8s\n",
            "[CV 1/5; 5/32] START criterion=gini, max_features=2, n_estimators=50............\n",
            "[CV 1/5; 5/32] END criterion=gini, max_features=2, n_estimators=50;, score=0.821 total time=   0.5s\n",
            "[CV 2/5; 5/32] START criterion=gini, max_features=2, n_estimators=50............\n",
            "[CV 2/5; 5/32] END criterion=gini, max_features=2, n_estimators=50;, score=0.817 total time=   0.5s\n",
            "[CV 3/5; 5/32] START criterion=gini, max_features=2, n_estimators=50............\n",
            "[CV 3/5; 5/32] END criterion=gini, max_features=2, n_estimators=50;, score=0.818 total time=   0.5s\n",
            "[CV 4/5; 5/32] START criterion=gini, max_features=2, n_estimators=50............\n",
            "[CV 4/5; 5/32] END criterion=gini, max_features=2, n_estimators=50;, score=0.810 total time=   0.5s\n",
            "[CV 5/5; 5/32] START criterion=gini, max_features=2, n_estimators=50............\n",
            "[CV 5/5; 5/32] END criterion=gini, max_features=2, n_estimators=50;, score=0.811 total time=   0.5s\n",
            "[CV 1/5; 6/32] START criterion=gini, max_features=2, n_estimators=100...........\n",
            "[CV 1/5; 6/32] END criterion=gini, max_features=2, n_estimators=100;, score=0.821 total time=   1.0s\n",
            "[CV 2/5; 6/32] START criterion=gini, max_features=2, n_estimators=100...........\n",
            "[CV 2/5; 6/32] END criterion=gini, max_features=2, n_estimators=100;, score=0.815 total time=   1.0s\n",
            "[CV 3/5; 6/32] START criterion=gini, max_features=2, n_estimators=100...........\n",
            "[CV 3/5; 6/32] END criterion=gini, max_features=2, n_estimators=100;, score=0.818 total time=   1.0s\n",
            "[CV 4/5; 6/32] START criterion=gini, max_features=2, n_estimators=100...........\n",
            "[CV 4/5; 6/32] END criterion=gini, max_features=2, n_estimators=100;, score=0.810 total time=   1.0s\n",
            "[CV 5/5; 6/32] START criterion=gini, max_features=2, n_estimators=100...........\n",
            "[CV 5/5; 6/32] END criterion=gini, max_features=2, n_estimators=100;, score=0.811 total time=   1.0s\n",
            "[CV 1/5; 7/32] START criterion=gini, max_features=2, n_estimators=150...........\n",
            "[CV 1/5; 7/32] END criterion=gini, max_features=2, n_estimators=150;, score=0.821 total time=   1.5s\n",
            "[CV 2/5; 7/32] START criterion=gini, max_features=2, n_estimators=150...........\n",
            "[CV 2/5; 7/32] END criterion=gini, max_features=2, n_estimators=150;, score=0.815 total time=   1.5s\n",
            "[CV 3/5; 7/32] START criterion=gini, max_features=2, n_estimators=150...........\n",
            "[CV 3/5; 7/32] END criterion=gini, max_features=2, n_estimators=150;, score=0.819 total time=   1.4s\n",
            "[CV 4/5; 7/32] START criterion=gini, max_features=2, n_estimators=150...........\n",
            "[CV 4/5; 7/32] END criterion=gini, max_features=2, n_estimators=150;, score=0.810 total time=   1.5s\n",
            "[CV 5/5; 7/32] START criterion=gini, max_features=2, n_estimators=150...........\n",
            "[CV 5/5; 7/32] END criterion=gini, max_features=2, n_estimators=150;, score=0.811 total time=   1.5s\n",
            "[CV 1/5; 8/32] START criterion=gini, max_features=2, n_estimators=200...........\n",
            "[CV 1/5; 8/32] END criterion=gini, max_features=2, n_estimators=200;, score=0.821 total time=   1.9s\n",
            "[CV 2/5; 8/32] START criterion=gini, max_features=2, n_estimators=200...........\n",
            "[CV 2/5; 8/32] END criterion=gini, max_features=2, n_estimators=200;, score=0.816 total time=   1.9s\n",
            "[CV 3/5; 8/32] START criterion=gini, max_features=2, n_estimators=200...........\n",
            "[CV 3/5; 8/32] END criterion=gini, max_features=2, n_estimators=200;, score=0.819 total time=   1.9s\n",
            "[CV 4/5; 8/32] START criterion=gini, max_features=2, n_estimators=200...........\n",
            "[CV 4/5; 8/32] END criterion=gini, max_features=2, n_estimators=200;, score=0.810 total time=   1.9s\n",
            "[CV 5/5; 8/32] START criterion=gini, max_features=2, n_estimators=200...........\n",
            "[CV 5/5; 8/32] END criterion=gini, max_features=2, n_estimators=200;, score=0.811 total time=   1.9s\n",
            "[CV 1/5; 9/32] START criterion=gini, max_features=3, n_estimators=50............\n",
            "[CV 1/5; 9/32] END criterion=gini, max_features=3, n_estimators=50;, score=0.821 total time=   0.5s\n",
            "[CV 2/5; 9/32] START criterion=gini, max_features=3, n_estimators=50............\n",
            "[CV 2/5; 9/32] END criterion=gini, max_features=3, n_estimators=50;, score=0.817 total time=   0.6s\n",
            "[CV 3/5; 9/32] START criterion=gini, max_features=3, n_estimators=50............\n",
            "[CV 3/5; 9/32] END criterion=gini, max_features=3, n_estimators=50;, score=0.818 total time=   0.5s\n",
            "[CV 4/5; 9/32] START criterion=gini, max_features=3, n_estimators=50............\n",
            "[CV 4/5; 9/32] END criterion=gini, max_features=3, n_estimators=50;, score=0.810 total time=   0.5s\n",
            "[CV 5/5; 9/32] START criterion=gini, max_features=3, n_estimators=50............\n",
            "[CV 5/5; 9/32] END criterion=gini, max_features=3, n_estimators=50;, score=0.811 total time=   0.5s\n",
            "[CV 1/5; 10/32] START criterion=gini, max_features=3, n_estimators=100..........\n",
            "[CV 1/5; 10/32] END criterion=gini, max_features=3, n_estimators=100;, score=0.821 total time=   1.1s\n",
            "[CV 2/5; 10/32] START criterion=gini, max_features=3, n_estimators=100..........\n",
            "[CV 2/5; 10/32] END criterion=gini, max_features=3, n_estimators=100;, score=0.815 total time=   1.1s\n",
            "[CV 3/5; 10/32] START criterion=gini, max_features=3, n_estimators=100..........\n",
            "[CV 3/5; 10/32] END criterion=gini, max_features=3, n_estimators=100;, score=0.818 total time=   1.1s\n",
            "[CV 4/5; 10/32] START criterion=gini, max_features=3, n_estimators=100..........\n",
            "[CV 4/5; 10/32] END criterion=gini, max_features=3, n_estimators=100;, score=0.810 total time=   1.1s\n",
            "[CV 5/5; 10/32] START criterion=gini, max_features=3, n_estimators=100..........\n",
            "[CV 5/5; 10/32] END criterion=gini, max_features=3, n_estimators=100;, score=0.811 total time=   1.1s\n",
            "[CV 1/5; 11/32] START criterion=gini, max_features=3, n_estimators=150..........\n",
            "[CV 1/5; 11/32] END criterion=gini, max_features=3, n_estimators=150;, score=0.821 total time=   2.0s\n",
            "[CV 2/5; 11/32] START criterion=gini, max_features=3, n_estimators=150..........\n",
            "[CV 2/5; 11/32] END criterion=gini, max_features=3, n_estimators=150;, score=0.815 total time=   2.1s\n",
            "[CV 3/5; 11/32] START criterion=gini, max_features=3, n_estimators=150..........\n",
            "[CV 3/5; 11/32] END criterion=gini, max_features=3, n_estimators=150;, score=0.819 total time=   1.6s\n",
            "[CV 4/5; 11/32] START criterion=gini, max_features=3, n_estimators=150..........\n",
            "[CV 4/5; 11/32] END criterion=gini, max_features=3, n_estimators=150;, score=0.810 total time=   1.6s\n",
            "[CV 5/5; 11/32] START criterion=gini, max_features=3, n_estimators=150..........\n",
            "[CV 5/5; 11/32] END criterion=gini, max_features=3, n_estimators=150;, score=0.811 total time=   1.6s\n",
            "[CV 1/5; 12/32] START criterion=gini, max_features=3, n_estimators=200..........\n",
            "[CV 1/5; 12/32] END criterion=gini, max_features=3, n_estimators=200;, score=0.821 total time=   2.1s\n",
            "[CV 2/5; 12/32] START criterion=gini, max_features=3, n_estimators=200..........\n",
            "[CV 2/5; 12/32] END criterion=gini, max_features=3, n_estimators=200;, score=0.815 total time=   2.1s\n",
            "[CV 3/5; 12/32] START criterion=gini, max_features=3, n_estimators=200..........\n",
            "[CV 3/5; 12/32] END criterion=gini, max_features=3, n_estimators=200;, score=0.819 total time=   2.1s\n",
            "[CV 4/5; 12/32] START criterion=gini, max_features=3, n_estimators=200..........\n",
            "[CV 4/5; 12/32] END criterion=gini, max_features=3, n_estimators=200;, score=0.810 total time=   2.1s\n",
            "[CV 5/5; 12/32] START criterion=gini, max_features=3, n_estimators=200..........\n",
            "[CV 5/5; 12/32] END criterion=gini, max_features=3, n_estimators=200;, score=0.811 total time=   2.1s\n",
            "[CV 1/5; 13/32] START criterion=gini, max_features=4, n_estimators=50...........\n",
            "[CV 1/5; 13/32] END criterion=gini, max_features=4, n_estimators=50;, score=0.821 total time=   0.6s\n",
            "[CV 2/5; 13/32] START criterion=gini, max_features=4, n_estimators=50...........\n",
            "[CV 2/5; 13/32] END criterion=gini, max_features=4, n_estimators=50;, score=0.816 total time=   0.6s\n",
            "[CV 3/5; 13/32] START criterion=gini, max_features=4, n_estimators=50...........\n",
            "[CV 3/5; 13/32] END criterion=gini, max_features=4, n_estimators=50;, score=0.818 total time=   0.6s\n",
            "[CV 4/5; 13/32] START criterion=gini, max_features=4, n_estimators=50...........\n",
            "[CV 4/5; 13/32] END criterion=gini, max_features=4, n_estimators=50;, score=0.810 total time=   0.6s\n",
            "[CV 5/5; 13/32] START criterion=gini, max_features=4, n_estimators=50...........\n",
            "[CV 5/5; 13/32] END criterion=gini, max_features=4, n_estimators=50;, score=0.811 total time=   0.6s\n",
            "[CV 1/5; 14/32] START criterion=gini, max_features=4, n_estimators=100..........\n",
            "[CV 1/5; 14/32] END criterion=gini, max_features=4, n_estimators=100;, score=0.821 total time=   1.2s\n",
            "[CV 2/5; 14/32] START criterion=gini, max_features=4, n_estimators=100..........\n",
            "[CV 2/5; 14/32] END criterion=gini, max_features=4, n_estimators=100;, score=0.815 total time=   1.2s\n",
            "[CV 3/5; 14/32] START criterion=gini, max_features=4, n_estimators=100..........\n",
            "[CV 3/5; 14/32] END criterion=gini, max_features=4, n_estimators=100;, score=0.818 total time=   1.2s\n",
            "[CV 4/5; 14/32] START criterion=gini, max_features=4, n_estimators=100..........\n",
            "[CV 4/5; 14/32] END criterion=gini, max_features=4, n_estimators=100;, score=0.810 total time=   1.2s\n",
            "[CV 5/5; 14/32] START criterion=gini, max_features=4, n_estimators=100..........\n",
            "[CV 5/5; 14/32] END criterion=gini, max_features=4, n_estimators=100;, score=0.810 total time=   1.2s\n",
            "[CV 1/5; 15/32] START criterion=gini, max_features=4, n_estimators=150..........\n",
            "[CV 1/5; 15/32] END criterion=gini, max_features=4, n_estimators=150;, score=0.821 total time=   1.8s\n",
            "[CV 2/5; 15/32] START criterion=gini, max_features=4, n_estimators=150..........\n",
            "[CV 2/5; 15/32] END criterion=gini, max_features=4, n_estimators=150;, score=0.814 total time=   1.8s\n",
            "[CV 3/5; 15/32] START criterion=gini, max_features=4, n_estimators=150..........\n",
            "[CV 3/5; 15/32] END criterion=gini, max_features=4, n_estimators=150;, score=0.819 total time=   1.8s\n",
            "[CV 4/5; 15/32] START criterion=gini, max_features=4, n_estimators=150..........\n",
            "[CV 4/5; 15/32] END criterion=gini, max_features=4, n_estimators=150;, score=0.811 total time=   1.8s\n",
            "[CV 5/5; 15/32] START criterion=gini, max_features=4, n_estimators=150..........\n",
            "[CV 5/5; 15/32] END criterion=gini, max_features=4, n_estimators=150;, score=0.810 total time=   1.8s\n",
            "[CV 1/5; 16/32] START criterion=gini, max_features=4, n_estimators=200..........\n",
            "[CV 1/5; 16/32] END criterion=gini, max_features=4, n_estimators=200;, score=0.821 total time=   2.4s\n",
            "[CV 2/5; 16/32] START criterion=gini, max_features=4, n_estimators=200..........\n",
            "[CV 2/5; 16/32] END criterion=gini, max_features=4, n_estimators=200;, score=0.814 total time=   2.4s\n",
            "[CV 3/5; 16/32] START criterion=gini, max_features=4, n_estimators=200..........\n",
            "[CV 3/5; 16/32] END criterion=gini, max_features=4, n_estimators=200;, score=0.819 total time=   2.3s\n",
            "[CV 4/5; 16/32] START criterion=gini, max_features=4, n_estimators=200..........\n",
            "[CV 4/5; 16/32] END criterion=gini, max_features=4, n_estimators=200;, score=0.810 total time=   2.3s\n",
            "[CV 5/5; 16/32] START criterion=gini, max_features=4, n_estimators=200..........\n",
            "[CV 5/5; 16/32] END criterion=gini, max_features=4, n_estimators=200;, score=0.810 total time=   2.3s\n",
            "[CV 1/5; 17/32] START criterion=entropy, max_features=1, n_estimators=50........\n",
            "[CV 1/5; 17/32] END criterion=entropy, max_features=1, n_estimators=50;, score=0.821 total time=   0.5s\n",
            "[CV 2/5; 17/32] START criterion=entropy, max_features=1, n_estimators=50........\n",
            "[CV 2/5; 17/32] END criterion=entropy, max_features=1, n_estimators=50;, score=0.817 total time=   0.5s\n",
            "[CV 3/5; 17/32] START criterion=entropy, max_features=1, n_estimators=50........\n",
            "[CV 3/5; 17/32] END criterion=entropy, max_features=1, n_estimators=50;, score=0.818 total time=   0.5s\n",
            "[CV 4/5; 17/32] START criterion=entropy, max_features=1, n_estimators=50........\n",
            "[CV 4/5; 17/32] END criterion=entropy, max_features=1, n_estimators=50;, score=0.810 total time=   0.5s\n",
            "[CV 5/5; 17/32] START criterion=entropy, max_features=1, n_estimators=50........\n",
            "[CV 5/5; 17/32] END criterion=entropy, max_features=1, n_estimators=50;, score=0.811 total time=   0.5s\n",
            "[CV 1/5; 18/32] START criterion=entropy, max_features=1, n_estimators=100.......\n",
            "[CV 1/5; 18/32] END criterion=entropy, max_features=1, n_estimators=100;, score=0.821 total time=   1.0s\n",
            "[CV 2/5; 18/32] START criterion=entropy, max_features=1, n_estimators=100.......\n",
            "[CV 2/5; 18/32] END criterion=entropy, max_features=1, n_estimators=100;, score=0.816 total time=   1.0s\n",
            "[CV 3/5; 18/32] START criterion=entropy, max_features=1, n_estimators=100.......\n",
            "[CV 3/5; 18/32] END criterion=entropy, max_features=1, n_estimators=100;, score=0.819 total time=   1.0s\n",
            "[CV 4/5; 18/32] START criterion=entropy, max_features=1, n_estimators=100.......\n",
            "[CV 4/5; 18/32] END criterion=entropy, max_features=1, n_estimators=100;, score=0.810 total time=   1.0s\n",
            "[CV 5/5; 18/32] START criterion=entropy, max_features=1, n_estimators=100.......\n",
            "[CV 5/5; 18/32] END criterion=entropy, max_features=1, n_estimators=100;, score=0.811 total time=   1.0s\n",
            "[CV 1/5; 19/32] START criterion=entropy, max_features=1, n_estimators=150.......\n",
            "[CV 1/5; 19/32] END criterion=entropy, max_features=1, n_estimators=150;, score=0.821 total time=   1.4s\n",
            "[CV 2/5; 19/32] START criterion=entropy, max_features=1, n_estimators=150.......\n",
            "[CV 2/5; 19/32] END criterion=entropy, max_features=1, n_estimators=150;, score=0.815 total time=   1.4s\n",
            "[CV 3/5; 19/32] START criterion=entropy, max_features=1, n_estimators=150.......\n",
            "[CV 3/5; 19/32] END criterion=entropy, max_features=1, n_estimators=150;, score=0.820 total time=   1.5s\n",
            "[CV 4/5; 19/32] START criterion=entropy, max_features=1, n_estimators=150.......\n",
            "[CV 4/5; 19/32] END criterion=entropy, max_features=1, n_estimators=150;, score=0.811 total time=   1.5s\n",
            "[CV 5/5; 19/32] START criterion=entropy, max_features=1, n_estimators=150.......\n",
            "[CV 5/5; 19/32] END criterion=entropy, max_features=1, n_estimators=150;, score=0.811 total time=   1.5s\n",
            "[CV 1/5; 20/32] START criterion=entropy, max_features=1, n_estimators=200.......\n",
            "[CV 1/5; 20/32] END criterion=entropy, max_features=1, n_estimators=200;, score=0.821 total time=   2.2s\n",
            "[CV 2/5; 20/32] START criterion=entropy, max_features=1, n_estimators=200.......\n",
            "[CV 2/5; 20/32] END criterion=entropy, max_features=1, n_estimators=200;, score=0.815 total time=   2.6s\n",
            "[CV 3/5; 20/32] START criterion=entropy, max_features=1, n_estimators=200.......\n",
            "[CV 3/5; 20/32] END criterion=entropy, max_features=1, n_estimators=200;, score=0.819 total time=   1.9s\n",
            "[CV 4/5; 20/32] START criterion=entropy, max_features=1, n_estimators=200.......\n",
            "[CV 4/5; 20/32] END criterion=entropy, max_features=1, n_estimators=200;, score=0.810 total time=   1.9s\n",
            "[CV 5/5; 20/32] START criterion=entropy, max_features=1, n_estimators=200.......\n",
            "[CV 5/5; 20/32] END criterion=entropy, max_features=1, n_estimators=200;, score=0.811 total time=   1.9s\n",
            "[CV 1/5; 21/32] START criterion=entropy, max_features=2, n_estimators=50........\n",
            "[CV 1/5; 21/32] END criterion=entropy, max_features=2, n_estimators=50;, score=0.821 total time=   0.5s\n",
            "[CV 2/5; 21/32] START criterion=entropy, max_features=2, n_estimators=50........\n",
            "[CV 2/5; 21/32] END criterion=entropy, max_features=2, n_estimators=50;, score=0.817 total time=   0.5s\n",
            "[CV 3/5; 21/32] START criterion=entropy, max_features=2, n_estimators=50........\n",
            "[CV 3/5; 21/32] END criterion=entropy, max_features=2, n_estimators=50;, score=0.818 total time=   0.5s\n",
            "[CV 4/5; 21/32] START criterion=entropy, max_features=2, n_estimators=50........\n",
            "[CV 4/5; 21/32] END criterion=entropy, max_features=2, n_estimators=50;, score=0.810 total time=   0.5s\n",
            "[CV 5/5; 21/32] START criterion=entropy, max_features=2, n_estimators=50........\n",
            "[CV 5/5; 21/32] END criterion=entropy, max_features=2, n_estimators=50;, score=0.811 total time=   0.5s\n",
            "[CV 1/5; 22/32] START criterion=entropy, max_features=2, n_estimators=100.......\n",
            "[CV 1/5; 22/32] END criterion=entropy, max_features=2, n_estimators=100;, score=0.821 total time=   1.0s\n",
            "[CV 2/5; 22/32] START criterion=entropy, max_features=2, n_estimators=100.......\n",
            "[CV 2/5; 22/32] END criterion=entropy, max_features=2, n_estimators=100;, score=0.815 total time=   1.0s\n",
            "[CV 3/5; 22/32] START criterion=entropy, max_features=2, n_estimators=100.......\n",
            "[CV 3/5; 22/32] END criterion=entropy, max_features=2, n_estimators=100;, score=0.818 total time=   1.0s\n",
            "[CV 4/5; 22/32] START criterion=entropy, max_features=2, n_estimators=100.......\n",
            "[CV 4/5; 22/32] END criterion=entropy, max_features=2, n_estimators=100;, score=0.810 total time=   1.0s\n",
            "[CV 5/5; 22/32] START criterion=entropy, max_features=2, n_estimators=100.......\n",
            "[CV 5/5; 22/32] END criterion=entropy, max_features=2, n_estimators=100;, score=0.811 total time=   1.0s\n",
            "[CV 1/5; 23/32] START criterion=entropy, max_features=2, n_estimators=150.......\n",
            "[CV 1/5; 23/32] END criterion=entropy, max_features=2, n_estimators=150;, score=0.821 total time=   1.5s\n",
            "[CV 2/5; 23/32] START criterion=entropy, max_features=2, n_estimators=150.......\n",
            "[CV 2/5; 23/32] END criterion=entropy, max_features=2, n_estimators=150;, score=0.815 total time=   2.3s\n",
            "[CV 3/5; 23/32] START criterion=entropy, max_features=2, n_estimators=150.......\n",
            "[CV 3/5; 23/32] END criterion=entropy, max_features=2, n_estimators=150;, score=0.819 total time=   1.7s\n",
            "[CV 4/5; 23/32] START criterion=entropy, max_features=2, n_estimators=150.......\n",
            "[CV 4/5; 23/32] END criterion=entropy, max_features=2, n_estimators=150;, score=0.810 total time=   1.5s\n",
            "[CV 5/5; 23/32] START criterion=entropy, max_features=2, n_estimators=150.......\n",
            "[CV 5/5; 23/32] END criterion=entropy, max_features=2, n_estimators=150;, score=0.811 total time=   1.5s\n",
            "[CV 1/5; 24/32] START criterion=entropy, max_features=2, n_estimators=200.......\n",
            "[CV 1/5; 24/32] END criterion=entropy, max_features=2, n_estimators=200;, score=0.821 total time=   2.1s\n",
            "[CV 2/5; 24/32] START criterion=entropy, max_features=2, n_estimators=200.......\n",
            "[CV 2/5; 24/32] END criterion=entropy, max_features=2, n_estimators=200;, score=0.815 total time=   2.0s\n",
            "[CV 3/5; 24/32] START criterion=entropy, max_features=2, n_estimators=200.......\n",
            "[CV 3/5; 24/32] END criterion=entropy, max_features=2, n_estimators=200;, score=0.819 total time=   2.0s\n",
            "[CV 4/5; 24/32] START criterion=entropy, max_features=2, n_estimators=200.......\n",
            "[CV 4/5; 24/32] END criterion=entropy, max_features=2, n_estimators=200;, score=0.810 total time=   2.0s\n",
            "[CV 5/5; 24/32] START criterion=entropy, max_features=2, n_estimators=200.......\n",
            "[CV 5/5; 24/32] END criterion=entropy, max_features=2, n_estimators=200;, score=0.811 total time=   2.0s\n",
            "[CV 1/5; 25/32] START criterion=entropy, max_features=3, n_estimators=50........\n",
            "[CV 1/5; 25/32] END criterion=entropy, max_features=3, n_estimators=50;, score=0.821 total time=   0.6s\n",
            "[CV 2/5; 25/32] START criterion=entropy, max_features=3, n_estimators=50........\n",
            "[CV 2/5; 25/32] END criterion=entropy, max_features=3, n_estimators=50;, score=0.817 total time=   0.6s\n",
            "[CV 3/5; 25/32] START criterion=entropy, max_features=3, n_estimators=50........\n",
            "[CV 3/5; 25/32] END criterion=entropy, max_features=3, n_estimators=50;, score=0.818 total time=   0.6s\n",
            "[CV 4/5; 25/32] START criterion=entropy, max_features=3, n_estimators=50........\n",
            "[CV 4/5; 25/32] END criterion=entropy, max_features=3, n_estimators=50;, score=0.810 total time=   0.6s\n",
            "[CV 5/5; 25/32] START criterion=entropy, max_features=3, n_estimators=50........\n",
            "[CV 5/5; 25/32] END criterion=entropy, max_features=3, n_estimators=50;, score=0.811 total time=   0.6s\n",
            "[CV 1/5; 26/32] START criterion=entropy, max_features=3, n_estimators=100.......\n",
            "[CV 1/5; 26/32] END criterion=entropy, max_features=3, n_estimators=100;, score=0.821 total time=   1.1s\n",
            "[CV 2/5; 26/32] START criterion=entropy, max_features=3, n_estimators=100.......\n",
            "[CV 2/5; 26/32] END criterion=entropy, max_features=3, n_estimators=100;, score=0.815 total time=   1.1s\n",
            "[CV 3/5; 26/32] START criterion=entropy, max_features=3, n_estimators=100.......\n",
            "[CV 3/5; 26/32] END criterion=entropy, max_features=3, n_estimators=100;, score=0.818 total time=   1.1s\n",
            "[CV 4/5; 26/32] START criterion=entropy, max_features=3, n_estimators=100.......\n",
            "[CV 4/5; 26/32] END criterion=entropy, max_features=3, n_estimators=100;, score=0.810 total time=   1.1s\n",
            "[CV 5/5; 26/32] START criterion=entropy, max_features=3, n_estimators=100.......\n",
            "[CV 5/5; 26/32] END criterion=entropy, max_features=3, n_estimators=100;, score=0.810 total time=   1.1s\n",
            "[CV 1/5; 27/32] START criterion=entropy, max_features=3, n_estimators=150.......\n",
            "[CV 1/5; 27/32] END criterion=entropy, max_features=3, n_estimators=150;, score=0.821 total time=   1.7s\n",
            "[CV 2/5; 27/32] START criterion=entropy, max_features=3, n_estimators=150.......\n",
            "[CV 2/5; 27/32] END criterion=entropy, max_features=3, n_estimators=150;, score=0.815 total time=   1.7s\n",
            "[CV 3/5; 27/32] START criterion=entropy, max_features=3, n_estimators=150.......\n",
            "[CV 3/5; 27/32] END criterion=entropy, max_features=3, n_estimators=150;, score=0.819 total time=   1.7s\n",
            "[CV 4/5; 27/32] START criterion=entropy, max_features=3, n_estimators=150.......\n",
            "[CV 4/5; 27/32] END criterion=entropy, max_features=3, n_estimators=150;, score=0.811 total time=   1.6s\n",
            "[CV 5/5; 27/32] START criterion=entropy, max_features=3, n_estimators=150.......\n",
            "[CV 5/5; 27/32] END criterion=entropy, max_features=3, n_estimators=150;, score=0.810 total time=   1.7s\n",
            "[CV 1/5; 28/32] START criterion=entropy, max_features=3, n_estimators=200.......\n",
            "[CV 1/5; 28/32] END criterion=entropy, max_features=3, n_estimators=200;, score=0.821 total time=   2.2s\n",
            "[CV 2/5; 28/32] START criterion=entropy, max_features=3, n_estimators=200.......\n",
            "[CV 2/5; 28/32] END criterion=entropy, max_features=3, n_estimators=200;, score=0.815 total time=   2.3s\n",
            "[CV 3/5; 28/32] START criterion=entropy, max_features=3, n_estimators=200.......\n",
            "[CV 3/5; 28/32] END criterion=entropy, max_features=3, n_estimators=200;, score=0.819 total time=   2.2s\n",
            "[CV 4/5; 28/32] START criterion=entropy, max_features=3, n_estimators=200.......\n",
            "[CV 4/5; 28/32] END criterion=entropy, max_features=3, n_estimators=200;, score=0.810 total time=   2.2s\n",
            "[CV 5/5; 28/32] START criterion=entropy, max_features=3, n_estimators=200.......\n",
            "[CV 5/5; 28/32] END criterion=entropy, max_features=3, n_estimators=200;, score=0.811 total time=   2.2s\n",
            "[CV 1/5; 29/32] START criterion=entropy, max_features=4, n_estimators=50........\n",
            "[CV 1/5; 29/32] END criterion=entropy, max_features=4, n_estimators=50;, score=0.821 total time=   0.6s\n",
            "[CV 2/5; 29/32] START criterion=entropy, max_features=4, n_estimators=50........\n",
            "[CV 2/5; 29/32] END criterion=entropy, max_features=4, n_estimators=50;, score=0.817 total time=   0.6s\n",
            "[CV 3/5; 29/32] START criterion=entropy, max_features=4, n_estimators=50........\n",
            "[CV 3/5; 29/32] END criterion=entropy, max_features=4, n_estimators=50;, score=0.818 total time=   0.6s\n",
            "[CV 4/5; 29/32] START criterion=entropy, max_features=4, n_estimators=50........\n",
            "[CV 4/5; 29/32] END criterion=entropy, max_features=4, n_estimators=50;, score=0.810 total time=   0.6s\n",
            "[CV 5/5; 29/32] START criterion=entropy, max_features=4, n_estimators=50........\n",
            "[CV 5/5; 29/32] END criterion=entropy, max_features=4, n_estimators=50;, score=0.811 total time=   0.6s\n",
            "[CV 1/5; 30/32] START criterion=entropy, max_features=4, n_estimators=100.......\n",
            "[CV 1/5; 30/32] END criterion=entropy, max_features=4, n_estimators=100;, score=0.821 total time=   1.2s\n",
            "[CV 2/5; 30/32] START criterion=entropy, max_features=4, n_estimators=100.......\n",
            "[CV 2/5; 30/32] END criterion=entropy, max_features=4, n_estimators=100;, score=0.815 total time=   1.2s\n",
            "[CV 3/5; 30/32] START criterion=entropy, max_features=4, n_estimators=100.......\n",
            "[CV 3/5; 30/32] END criterion=entropy, max_features=4, n_estimators=100;, score=0.818 total time=   1.2s\n",
            "[CV 4/5; 30/32] START criterion=entropy, max_features=4, n_estimators=100.......\n",
            "[CV 4/5; 30/32] END criterion=entropy, max_features=4, n_estimators=100;, score=0.810 total time=   1.2s\n",
            "[CV 5/5; 30/32] START criterion=entropy, max_features=4, n_estimators=100.......\n",
            "[CV 5/5; 30/32] END criterion=entropy, max_features=4, n_estimators=100;, score=0.810 total time=   1.2s\n",
            "[CV 1/5; 31/32] START criterion=entropy, max_features=4, n_estimators=150.......\n",
            "[CV 1/5; 31/32] END criterion=entropy, max_features=4, n_estimators=150;, score=0.821 total time=   1.8s\n",
            "[CV 2/5; 31/32] START criterion=entropy, max_features=4, n_estimators=150.......\n",
            "[CV 2/5; 31/32] END criterion=entropy, max_features=4, n_estimators=150;, score=0.815 total time=   1.8s\n",
            "[CV 3/5; 31/32] START criterion=entropy, max_features=4, n_estimators=150.......\n",
            "[CV 3/5; 31/32] END criterion=entropy, max_features=4, n_estimators=150;, score=0.819 total time=   1.8s\n",
            "[CV 4/5; 31/32] START criterion=entropy, max_features=4, n_estimators=150.......\n",
            "[CV 4/5; 31/32] END criterion=entropy, max_features=4, n_estimators=150;, score=0.811 total time=   1.8s\n",
            "[CV 5/5; 31/32] START criterion=entropy, max_features=4, n_estimators=150.......\n",
            "[CV 5/5; 31/32] END criterion=entropy, max_features=4, n_estimators=150;, score=0.810 total time=   2.6s\n",
            "[CV 1/5; 32/32] START criterion=entropy, max_features=4, n_estimators=200.......\n",
            "[CV 1/5; 32/32] END criterion=entropy, max_features=4, n_estimators=200;, score=0.821 total time=   2.6s\n",
            "[CV 2/5; 32/32] START criterion=entropy, max_features=4, n_estimators=200.......\n",
            "[CV 2/5; 32/32] END criterion=entropy, max_features=4, n_estimators=200;, score=0.814 total time=   2.5s\n",
            "[CV 3/5; 32/32] START criterion=entropy, max_features=4, n_estimators=200.......\n",
            "[CV 3/5; 32/32] END criterion=entropy, max_features=4, n_estimators=200;, score=0.819 total time=   2.4s\n",
            "[CV 4/5; 32/32] START criterion=entropy, max_features=4, n_estimators=200.......\n",
            "[CV 4/5; 32/32] END criterion=entropy, max_features=4, n_estimators=200;, score=0.810 total time=   2.5s\n",
            "[CV 5/5; 32/32] START criterion=entropy, max_features=4, n_estimators=200.......\n",
            "[CV 5/5; 32/32] END criterion=entropy, max_features=4, n_estimators=200;, score=0.811 total time=   2.5s\n",
            "Random Forest GridSearchCV best score = 0.8155857469319561\n",
            "Random Forest GridSearchCV best parameters = {'criterion': 'gini', 'max_features': 2, 'n_estimators': 50}\n",
            "Random Forest GridSearchCV deceased class f1-score = 0.7372820479331287\n",
            "Random Forest GridSearchCV accuracy score = 0.8274782751945966\n"
          ]
        }
      ]
    },
    {
      "cell_type": "markdown",
      "metadata": {
        "id": "Rm952LUWLiwD"
      },
      "source": [
        "# 1.5 Check for overfitting"
      ]
    },
    {
      "cell_type": "markdown",
      "metadata": {
        "id": "60zPSzvVLiwD"
      },
      "source": [
        "### XG Boost,"
      ]
    },
    {
      "cell_type": "code",
      "execution_count": null,
      "metadata": {
        "id": "ixjCLXqNLiwD",
        "outputId": "bc21a3fe-cd8a-4a2b-ea96-b1e931110dd1"
      },
      "outputs": [
        {
          "name": "stdout",
          "output_type": "stream",
          "text": [
            "Training Dataset F1-Score = 0.8228176445923623\n",
            "Validation Dataset F1-Score = 0.8132341623393646\n"
          ]
        }
      ],
      "source": [
        "# Checking for overfitting on XG Boost model by comparing results on train versus validation datasets.\n",
        "train_data_formatted = train_data.iloc[:, :4].values\n",
        "train_labels_truth = train_data.iloc[:, 4].values.reshape(-1, 1)\n",
        "train_labels_predicted = xgb_model.predict(train_data_formatted)\n",
        "train_data_score = f1_score(train_labels_predicted, train_labels_truth, average = \"macro\")\n",
        "\n",
        "validation_data_formatted = validation_data.iloc[:, :4].values\n",
        "validation_labels_truth = validation_data.iloc[:, 4].values.reshape(-1, 1)\n",
        "validation_labels_predicted = xgb_model.predict(validation_data_formatted)\n",
        "validation_data_score = f1_score(validation_labels_predicted, validation_labels_truth, average = \"macro\")\n",
        "\n",
        "print(\"Training Dataset F1-Score = \" + str(train_data_score))\n",
        "print(\"Validation Dataset F1-Score = \" + str(validation_data_score))"
      ]
    },
    {
      "cell_type": "markdown",
      "source": [
        "### Random Forest"
      ],
      "metadata": {
        "id": "X5-Q5_x2Phm1"
      }
    },
    {
      "cell_type": "code",
      "source": [
        "# Checking for overfitting on Random Forest model by comparing results on train versus validation datasets.\n",
        "train_data_formatted = train_data.iloc[:, :4].values\n",
        "train_labels_truth = train_data.iloc[:, 4].values.ravel()\n",
        "train_labels_predicted = rf_model.predict(train_data_formatted)\n",
        "train_data_score = f1_score(train_labels_predicted, train_labels_truth, average = \"macro\")\n",
        "\n",
        "validation_data_formatted = validation_data.iloc[:, :4].values\n",
        "validation_labels_truth = validation_data.iloc[:, 4].values.ravel()\n",
        "validation_labels_predicted = rf_model.predict(validation_data_formatted)\n",
        "validation_data_score = f1_score(validation_labels_predicted, validation_labels_truth, average = \"macro\")\n",
        "\n",
        "print(\"Training Dataset F1-Score = \" + str(train_data_score))\n",
        "print(\"Validation Dataset F1-Score = \" + str(validation_data_score))\n",
        "\n",
        "accuracy = accuracy_score(validation_labels_predicted, validation_labels_truth)\n",
        "print(\"Validation dataset accuracy score = \" + str(accuracy))"
      ],
      "metadata": {
        "colab": {
          "base_uri": "https://localhost:8080/"
        },
        "id": "vK0PCoiPPkdb",
        "outputId": "af756462-b2bf-4d13-882c-bee54813a072"
      },
      "execution_count": 20,
      "outputs": [
        {
          "output_type": "stream",
          "name": "stdout",
          "text": [
            "Training Dataset F1-Score = 0.8225658073767249\n",
            "Validation Dataset F1-Score = 0.8154216349652573\n",
            "Validation dataset accuracy score = 0.8207873496952726\n"
          ]
        }
      ]
    },
    {
      "cell_type": "markdown",
      "metadata": {
        "id": "lLS3fC__LiwE"
      },
      "source": [
        "# 1.7 Prediction on test sets"
      ]
    },
    {
      "cell_type": "code",
      "execution_count": null,
      "metadata": {
        "id": "jFxeI8ikLiwE"
      },
      "outputs": [],
      "source": [
        "import csv\n",
        "# USING XG BOOST FOR NOW BUT WE CAN SUB THIS OUT FOR BEST PERFORMING MODEL LATER\n",
        "test_data = test_data.iloc[:, :4].values\n",
        "predicted_labels = xgb_model.predict(test_data)\n",
        "# CHANGE MODEL NAME TO BEST PERFORMING MODEL LATER\n",
        "model_name = \"xgboost\"\n",
        "result_data_frame = pd.DataFrame(test_data, columns=[\"age\", \"country\", \"chronic_disease_binary\", \"Case_Fatality_Ratio\"])\n",
        "\n",
        "# This function is from the TA\n",
        "def create_submission_file(y_preds, file_name):\n",
        "    with open(file_name, 'w') as csvfile:\n",
        "        wr = csv.writer(csvfile, quoting=csv.QUOTE_ALL)\n",
        "        wr.writerow([\"Id\", \"Prediction\"])\n",
        "        for i, pred in enumerate(y_preds):\n",
        "            wr.writerow([str(i), str(pred)])\n",
        "create_submission_file(predicted_labels, \"submission_\"+model_name+\".csv\")"
      ]
    },
    {
      "cell_type": "markdown",
      "source": [
        "### Random Forest"
      ],
      "metadata": {
        "id": "-WvBqo0lQZVi"
      }
    },
    {
      "cell_type": "code",
      "source": [
        "# Depending on the final model selection, we can delete one of these\n",
        "\n",
        "import csv\n",
        "test_data = test_data.iloc[:, :4].values\n",
        "predicted_labels = rf_model.predict(test_data)\n",
        "\n",
        "model_name = \"random_forest\"\n",
        "result_data_frame = pd.DataFrame(test_data, columns=[\"age\", \"country\", \"chronic_disease_binary\", \"Case_Fatality_Ratio\"])\n",
        "\n",
        "# This function is from the TA\n",
        "def create_submission_file(y_preds, file_name):\n",
        "    with open(file_name, 'w') as csvfile:\n",
        "        wr = csv.writer(csvfile, quoting=csv.QUOTE_ALL)\n",
        "        wr.writerow([\"Id\", \"Prediction\"])\n",
        "        for i, pred in enumerate(y_preds):\n",
        "            wr.writerow([str(i), str(pred)])\n",
        "create_submission_file(predicted_labels, \"submission_\"+model_name+\".csv\")"
      ],
      "metadata": {
        "id": "AQwDTijEQbIM"
      },
      "execution_count": null,
      "outputs": []
    }
  ],
  "metadata": {
    "kernelspec": {
      "display_name": "base",
      "language": "python",
      "name": "python3"
    },
    "language_info": {
      "codemirror_mode": {
        "name": "ipython",
        "version": 3
      },
      "file_extension": ".py",
      "mimetype": "text/x-python",
      "name": "python",
      "nbconvert_exporter": "python",
      "pygments_lexer": "ipython3",
      "version": "3.9.12"
    },
    "orig_nbformat": 4,
    "vscode": {
      "interpreter": {
        "hash": "deb683b5d1988b6b95e57921913ffedcd2e7f742f2449c1a1e006c905d5bbba3"
      }
    },
    "colab": {
      "provenance": []
    }
  },
  "nbformat": 4,
  "nbformat_minor": 0
}